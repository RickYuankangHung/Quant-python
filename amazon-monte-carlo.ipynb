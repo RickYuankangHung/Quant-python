{
 "cells": [
  {
   "cell_type": "markdown",
   "metadata": {},
   "source": [
    "# Simulate Amazon stock prices\n",
    "USing historical data from yahoo from 2014-09-30 to 2016-09-30 and now we will do a Monte Carlo simulation using the standard deviation of returns."
   ]
  },
  {
   "cell_type": "code",
   "execution_count": null,
   "metadata": {
    "collapsed": true
   },
   "outputs": [],
   "source": [
    "current_price = 937.31\n",
    "sigma_one_day = 0.02\n",
    "\n",
    "# for Monte Carlo, we randomly generate log returns, apply to\n",
    "# current prices to find simulatedd future prices\n",
    "num_trials=1000\n",
    "import numpy as np\n",
    "mean_daily_return=0\n",
    "simulated_log_returns=np.random.normal(mean_daily_return,sigma_one_day,num_trials)\n",
    "np.std(trials)\n",
    "%pylab inline\n",
    "import matplotlib.pyplot as plt\n",
    "price_sigma=np.std(simulated_prices)\n",
    "numBins = 50\n",
    "plt.hist(trials, bins=numBins, normed=True, align='left', rwidth=0.3, range=(current_price_-3*sigma,current_price+3*price_sigma)"
   ]
  },
  {
   "cell_type": "code",
   "execution_count": null,
   "metadata": {
    "collapsed": true
   },
   "outputs": [],
   "source": []
  },
  {
   "cell_type": "code",
   "execution_count": null,
   "metadata": {
    "collapsed": true
   },
   "outputs": [],
   "source": []
  }
 ],
 "metadata": {
  "kernelspec": {
   "display_name": "Python 3",
   "language": "python",
   "name": "python3"
  }
 },
 "nbformat": 4,
 "nbformat_minor": 2
}
